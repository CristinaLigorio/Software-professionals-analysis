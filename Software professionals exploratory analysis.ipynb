{
 "cells": [
  {
   "attachments": {},
   "cell_type": "markdown",
   "id": "2b04dd95-2ffb-4fa1-b4b2-091647abb161",
   "metadata": {},
   "source": [
    "# Software professionals analysis\n",
    "\n",
    "Analysis of a dataset containing information on over 20K software professionals"
   ]
  },
  {
   "attachments": {},
   "cell_type": "markdown",
   "id": "8ba6a2d5-87be-4662-a940-6e9b347a5ae2",
   "metadata": {},
   "source": [
    "#### Exploring the datas\n",
    "\n",
    "The datasets containing information of over 20k Software Professionals with different variables like: \n",
    "\n",
    "- the `Rating` of the company given by the employee,\n",
    "- the `Company Name`, \n",
    "- the `Job Title` of the employee, \n",
    "- the employee `Salary` (in Indian Rupee ₹), \n",
    "- the number of `Salaries Reported`, \n",
    "- the `Location` of the company, \n",
    "- the `Employment Status` and\n",
    "- the category of the `Job Roles` \n",
    "\n",
    "The dataset name is `Software Professionals Salary.csv`"
   ]
  },
  {
   "cell_type": "code",
   "execution_count": 1,
   "id": "40c3fbf2-54a3-440c-868f-d2509ca27aba",
   "metadata": {},
   "outputs": [],
   "source": [
    "# import the necessary libraries\n",
    "\n",
    "import requests\n",
    "import pandas as pd\n",
    "import matplotlib.pyplot as plt"
   ]
  },
  {
   "cell_type": "code",
   "execution_count": 2,
   "id": "b7a23302",
   "metadata": {},
   "outputs": [],
   "source": [
    "# load the .csv file to a DataFrame named sps\n",
    "sps =pd.read_csv(r'..\\Software Professionals Salary.csv')"
   ]
  },
  {
   "cell_type": "code",
   "execution_count": 3,
   "id": "ad1ce705",
   "metadata": {},
   "outputs": [
    {
     "name": "stdout",
     "output_type": "stream",
     "text": [
      "<class 'pandas.core.frame.DataFrame'>\n",
      "RangeIndex: 22770 entries, 0 to 22769\n",
      "Data columns (total 8 columns):\n",
      " #   Column             Non-Null Count  Dtype  \n",
      "---  ------             --------------  -----  \n",
      " 0   Rating             22770 non-null  float64\n",
      " 1   Company Name       22770 non-null  object \n",
      " 2   Job Title          22770 non-null  object \n",
      " 3   Salary             22770 non-null  int64  \n",
      " 4   Salaries Reported  22770 non-null  int64  \n",
      " 5   Location           22770 non-null  object \n",
      " 6   Employment Status  22770 non-null  object \n",
      " 7   Job Roles          22770 non-null  object \n",
      "dtypes: float64(1), int64(2), object(5)\n",
      "memory usage: 1.4+ MB\n"
     ]
    }
   ],
   "source": [
    "# check columns data type\n",
    "sps.info()"
   ]
  },
  {
   "cell_type": "code",
   "execution_count": 11,
   "id": "fd0690a5-11a2-44eb-b501-b92914e30832",
   "metadata": {},
   "outputs": [
    {
     "name": "stdout",
     "output_type": "stream",
     "text": [
      "The shape of the sps DataFrame is (22770, 8)\n"
     ]
    }
   ],
   "source": [
    "# check the shape of sps DataFrame (22770, 8)\n",
    "print(f\"The shape of the sps DataFrame is {sps.shape}\")"
   ]
  },
  {
   "cell_type": "code",
   "execution_count": 12,
   "id": "c4f563b6-dfea-4fc7-8e1a-b33fdcec2454",
   "metadata": {},
   "outputs": [
    {
     "name": "stdout",
     "output_type": "stream",
     "text": [
      "There are 11 unique Job Roles\n"
     ]
    }
   ],
   "source": [
    "# check how many unique Job Roles are in sps DataFrame (11)\n",
    "print(f\"There are {sps['Job Roles'].nunique()} unique Job Roles\")"
   ]
  },
  {
   "cell_type": "code",
   "execution_count": 6,
   "id": "e8dcebb1",
   "metadata": {},
   "outputs": [
    {
     "data": {
      "text/plain": [
       "array(['Android', 'Backend', 'Database', 'Frontend', 'IOS', 'Java',\n",
       "       'Mobile', 'SDE', 'Python', 'Web', 'Testing'], dtype=object)"
      ]
     },
     "execution_count": 6,
     "metadata": {},
     "output_type": "execute_result"
    }
   ],
   "source": [
    "# show the unique values in Job Roles\n",
    "sps['Job Roles'].unique()"
   ]
  },
  {
   "cell_type": "code",
   "execution_count": 7,
   "id": "476daa3f",
   "metadata": {},
   "outputs": [
    {
     "data": {
      "text/plain": [
       "(947, 8)"
      ]
     },
     "execution_count": 7,
     "metadata": {},
     "output_type": "execute_result"
    }
   ],
   "source": [
    "# create a new DataFrame which is sps DF filtered by Job Role 'Python' and check its shape \n",
    "sps_python = sps.loc[sps['Job Roles'] == 'Python']\n",
    "sps_python.shape"
   ]
  },
  {
   "cell_type": "code",
   "execution_count": 14,
   "id": "e5114fa9-4fee-4835-ba92-dafc05c06275",
   "metadata": {},
   "outputs": [
    {
     "name": "stdout",
     "output_type": "stream",
     "text": [
      "There are 102 unique Job Titles for the 'Python' Job Role\n"
     ]
    }
   ],
   "source": [
    "# check how many unique Job Title for 'Python' Job Role (102)\n",
    "print(f\"There are {sps_python['Job Title'].nunique()} unique Job Titles for the 'Python' Job Role\")"
   ]
  },
  {
   "cell_type": "code",
   "execution_count": 9,
   "id": "5b9b9905-3e0c-48c3-a8c6-73cfe8a17c65",
   "metadata": {},
   "outputs": [
    {
     "data": {
      "text/plain": [
       "(3, 8)"
      ]
     },
     "execution_count": 9,
     "metadata": {},
     "output_type": "execute_result"
    }
   ],
   "source": [
    "# from sps_python DF filter Job Title that contains 'Analyst' and save it as a new DF\n",
    "sps_python_analyst = sps_python.loc[sps_python['Job Title'].str.contains('Analyst')]\n",
    "sps_python_analyst.shape"
   ]
  },
  {
   "cell_type": "code",
   "execution_count": 15,
   "id": "e8cb67b1",
   "metadata": {},
   "outputs": [
    {
     "name": "stdout",
     "output_type": "stream",
     "text": [
      "There are 3 Company Names that have ‘Python’ Jobe Role with a Job Title containing the substring ‘Analyst’\n"
     ]
    }
   ],
   "source": [
    "# check how many Company Names are in sps_python_analyst DF (3)\n",
    "print(f\"There are {sps_python_analyst['Company Name'].nunique()} Company Names that have ‘Python’ Jobe Role with a Job Title containing the substring ‘Analyst’\")"
   ]
  },
  {
   "cell_type": "code",
   "execution_count": 20,
   "id": "9081d9cf",
   "metadata": {},
   "outputs": [
    {
     "name": "stdout",
     "output_type": "stream",
     "text": [
      "The Company Name with the highest number of Salaries Reported is Amazon\n"
     ]
    }
   ],
   "source": [
    "# show which Company Name has the highest number of Salaries Reported (Amazon) \n",
    "sps_tot_salaries_reported = sps.groupby('Company Name', as_index=False)['Salaries Reported'].sum().sort_values(by='Salaries Reported', ascending=False)\n",
    "print(f\"The Company Name with the highest number of Salaries Reported is {sps_tot_salaries_reported['Company Name'].iloc[0]}\")"
   ]
  },
  {
   "cell_type": "code",
   "execution_count": 21,
   "id": "af0f79d4",
   "metadata": {},
   "outputs": [
    {
     "data": {
      "text/html": [
       "<div>\n",
       "<style scoped>\n",
       "    .dataframe tbody tr th:only-of-type {\n",
       "        vertical-align: middle;\n",
       "    }\n",
       "\n",
       "    .dataframe tbody tr th {\n",
       "        vertical-align: top;\n",
       "    }\n",
       "\n",
       "    .dataframe thead th {\n",
       "        text-align: right;\n",
       "    }\n",
       "</style>\n",
       "<table border=\"1\" class=\"dataframe\">\n",
       "  <thead>\n",
       "    <tr style=\"text-align: right;\">\n",
       "      <th></th>\n",
       "      <th>Company Name</th>\n",
       "      <th>Salaries Reported</th>\n",
       "    </tr>\n",
       "  </thead>\n",
       "  <tbody>\n",
       "    <tr>\n",
       "      <th>660</th>\n",
       "      <td>Amazon</td>\n",
       "      <td>2636</td>\n",
       "    </tr>\n",
       "  </tbody>\n",
       "</table>\n",
       "</div>"
      ],
      "text/plain": [
       "    Company Name  Salaries Reported\n",
       "660       Amazon               2636"
      ]
     },
     "execution_count": 21,
     "metadata": {},
     "output_type": "execute_result"
    }
   ],
   "source": [
    "# show the Amazon's Salaries Reported value\n",
    "sps_tot_salaries_reported.head(1)"
   ]
  },
  {
   "cell_type": "code",
   "execution_count": 22,
   "id": "918e629a-b114-4064-8943-2cd283988e07",
   "metadata": {},
   "outputs": [
    {
     "data": {
      "text/plain": [
       "(184, 8)"
      ]
     },
     "execution_count": 22,
     "metadata": {},
     "output_type": "execute_result"
    }
   ],
   "source": [
    "# create a new DataFrame which is sps DF filtered by Company Name 'Amazon' and check its shape \n",
    "sps_amazon = sps.loc[sps['Company Name'] == 'Amazon']\n",
    "sps_amazon.shape"
   ]
  },
  {
   "cell_type": "code",
   "execution_count": 24,
   "id": "82c900fb",
   "metadata": {},
   "outputs": [
    {
     "name": "stdout",
     "output_type": "stream",
     "text": [
      "Amazon Company Name is present in 9 Locations\n"
     ]
    }
   ],
   "source": [
    "# check how many Locations is Amazon present in (9)\n",
    "print(f\"{sps_tot_salaries_reported['Company Name'].iloc[0]} Company Name is present in {sps_amazon['Location'].nunique()} Locations\")"
   ]
  },
  {
   "cell_type": "code",
   "execution_count": 25,
   "id": "6d010490",
   "metadata": {},
   "outputs": [
    {
     "data": {
      "text/plain": [
       "array(['Bangalore', 'Hyderabad', 'New Delhi', 'Chennai', 'Jaipur',\n",
       "       'Kolkata', 'Madhya Pradesh', 'Mumbai', 'Pune'], dtype=object)"
      ]
     },
     "execution_count": 25,
     "metadata": {},
     "output_type": "execute_result"
    }
   ],
   "source": [
    "# show the locations where Amazon is in\n",
    "sps_amazon['Location'].unique()"
   ]
  },
  {
   "cell_type": "code",
   "execution_count": 26,
   "id": "bab08d9b-ac6c-4ae6-a6fe-1efded5e4bab",
   "metadata": {},
   "outputs": [],
   "source": [
    "# save the URL of the Open Access Endpoint\n",
    "url = 'https://open.er-api.com/v6/latest/USD'"
   ]
  },
  {
   "cell_type": "code",
   "execution_count": 27,
   "id": "8afe30ca",
   "metadata": {},
   "outputs": [
    {
     "name": "stdout",
     "output_type": "stream",
     "text": [
      "200\n"
     ]
    }
   ],
   "source": [
    "# do the API requests\n",
    "r = requests.get(url)\n",
    "\n",
    "# check the status code of the API requests\n",
    "print(r.status_code)"
   ]
  },
  {
   "cell_type": "code",
   "execution_count": 28,
   "id": "415ab7af",
   "metadata": {},
   "outputs": [
    {
     "data": {
      "text/plain": [
       "{'result': 'success',\n",
       " 'provider': 'https://www.exchangerate-api.com',\n",
       " 'documentation': 'https://www.exchangerate-api.com/docs/free',\n",
       " 'terms_of_use': 'https://www.exchangerate-api.com/terms',\n",
       " 'time_last_update_unix': 1686787351,\n",
       " 'time_last_update_utc': 'Thu, 15 Jun 2023 00:02:31 +0000',\n",
       " 'time_next_update_unix': 1686874781,\n",
       " 'time_next_update_utc': 'Fri, 16 Jun 2023 00:19:41 +0000',\n",
       " 'time_eol_unix': 0,\n",
       " 'base_code': 'USD',\n",
       " 'rates': {'USD': 1,\n",
       "  'AED': 3.6725,\n",
       "  'AFN': 86.021548,\n",
       "  'ALL': 99.23349,\n",
       "  'AMD': 386.52408,\n",
       "  'ANG': 1.79,\n",
       "  'AOA': 689.553293,\n",
       "  'ARS': 246.704826,\n",
       "  'AUD': 1.471101,\n",
       "  'AWG': 1.79,\n",
       "  'AZN': 1.699383,\n",
       "  'BAM': 1.805764,\n",
       "  'BBD': 2,\n",
       "  'BDT': 108.837476,\n",
       "  'BGN': 1.806163,\n",
       "  'BHD': 0.376,\n",
       "  'BIF': 2814.950488,\n",
       "  'BMD': 1,\n",
       "  'BND': 1.340675,\n",
       "  'BOB': 6.914693,\n",
       "  'BRL': 4.86028,\n",
       "  'BSD': 1,\n",
       "  'BTN': 82.070703,\n",
       "  'BWP': 13.367946,\n",
       "  'BYN': 2.927014,\n",
       "  'BZD': 2,\n",
       "  'CAD': 1.330533,\n",
       "  'CDF': 2282.087272,\n",
       "  'CHF': 0.901282,\n",
       "  'CLP': 803.703912,\n",
       "  'CNY': 7.161039,\n",
       "  'COP': 4185.815819,\n",
       "  'CRC': 541.870236,\n",
       "  'CUP': 24,\n",
       "  'CVE': 101.804634,\n",
       "  'CZK': 21.990809,\n",
       "  'DJF': 177.721,\n",
       "  'DKK': 6.887963,\n",
       "  'DOP': 54.755231,\n",
       "  'DZD': 136.042597,\n",
       "  'EGP': 30.885478,\n",
       "  'ERN': 15,\n",
       "  'ETB': 54.914773,\n",
       "  'EUR': 0.923751,\n",
       "  'FJD': 2.211739,\n",
       "  'FKP': 0.789516,\n",
       "  'FOK': 6.887963,\n",
       "  'GBP': 0.789502,\n",
       "  'GEL': 2.61114,\n",
       "  'GGP': 0.789516,\n",
       "  'GHS': 11.495818,\n",
       "  'GIP': 0.789516,\n",
       "  'GMD': 62.529017,\n",
       "  'GNF': 8566.090072,\n",
       "  'GTQ': 7.828998,\n",
       "  'GYD': 211.327461,\n",
       "  'HKD': 7.831238,\n",
       "  'HNL': 24.544537,\n",
       "  'HRK': 6.956396,\n",
       "  'HTG': 139.393594,\n",
       "  'HUF': 342.940193,\n",
       "  'IDR': 14908.425957,\n",
       "  'ILS': 3.58298,\n",
       "  'IMP': 0.789516,\n",
       "  'INR': 82.070814,\n",
       "  'IQD': 1309.926122,\n",
       "  'IRR': 41927.730771,\n",
       "  'ISK': 137.608526,\n",
       "  'JEP': 0.789516,\n",
       "  'JMD': 154.452825,\n",
       "  'JOD': 0.709,\n",
       "  'JPY': 139.886076,\n",
       "  'KES': 139.983494,\n",
       "  'KGS': 87.626255,\n",
       "  'KHR': 4104.380009,\n",
       "  'KID': 1.471074,\n",
       "  'KMF': 454.220257,\n",
       "  'KRW': 1274.879185,\n",
       "  'KWD': 0.307084,\n",
       "  'KYD': 0.833333,\n",
       "  'KZT': 449.835825,\n",
       "  'LAK': 18193.507932,\n",
       "  'LBP': 15000,\n",
       "  'LKR': 309.692942,\n",
       "  'LRD': 176.597078,\n",
       "  'LSL': 18.326591,\n",
       "  'LYD': 4.811114,\n",
       "  'MAD': 10.070207,\n",
       "  'MDL': 17.807727,\n",
       "  'MGA': 4511.297242,\n",
       "  'MKD': 57.003622,\n",
       "  'MMK': 2099.513261,\n",
       "  'MNT': 3476.756761,\n",
       "  'MOP': 8.066175,\n",
       "  'MRU': 34.415596,\n",
       "  'MUR': 45.481436,\n",
       "  'MVR': 15.434608,\n",
       "  'MWK': 1028.466369,\n",
       "  'MXN': 17.140265,\n",
       "  'MYR': 4.619001,\n",
       "  'MZN': 64.070723,\n",
       "  'NAD': 18.326591,\n",
       "  'NGN': 462.831052,\n",
       "  'NIO': 36.551794,\n",
       "  'NOK': 10.623619,\n",
       "  'NPR': 131.313125,\n",
       "  'NZD': 1.614317,\n",
       "  'OMR': 0.384497,\n",
       "  'PAB': 1,\n",
       "  'PEN': 3.651695,\n",
       "  'PGK': 3.566137,\n",
       "  'PHP': 55.93276,\n",
       "  'PKR': 284.46276,\n",
       "  'PLN': 4.113732,\n",
       "  'PYG': 7254.094741,\n",
       "  'QAR': 3.64,\n",
       "  'RON': 4.586049,\n",
       "  'RSD': 108.570319,\n",
       "  'RUB': 84.151302,\n",
       "  'RWF': 1162.997693,\n",
       "  'SAR': 3.75,\n",
       "  'SBD': 8.494329,\n",
       "  'SCR': 13.267372,\n",
       "  'SDG': 561.06623,\n",
       "  'SEK': 10.702444,\n",
       "  'SGD': 1.340676,\n",
       "  'SHP': 0.789516,\n",
       "  'SLE': 22.66367,\n",
       "  'SLL': 22663.670125,\n",
       "  'SOS': 568.089282,\n",
       "  'SRD': 37.337976,\n",
       "  'SSP': 968.935276,\n",
       "  'STN': 22.620174,\n",
       "  'SYP': 2548.640652,\n",
       "  'SZL': 18.326591,\n",
       "  'THB': 34.655854,\n",
       "  'TJS': 10.886882,\n",
       "  'TMT': 3.497264,\n",
       "  'TND': 3.093797,\n",
       "  'TOP': 2.391666,\n",
       "  'TRY': 23.582862,\n",
       "  'TTD': 6.759983,\n",
       "  'TVD': 1.471074,\n",
       "  'TWD': 30.695986,\n",
       "  'TZS': 2382.855774,\n",
       "  'UAH': 36.92484,\n",
       "  'UGX': 3709.586421,\n",
       "  'UYU': 38.654782,\n",
       "  'UZS': 11431.172927,\n",
       "  'VES': 27.1053,\n",
       "  'VND': 23516.764063,\n",
       "  'VUV': 118.72461,\n",
       "  'WST': 2.701091,\n",
       "  'XAF': 605.627009,\n",
       "  'XCD': 2.7,\n",
       "  'XDR': 0.74961,\n",
       "  'XOF': 605.627009,\n",
       "  'XPF': 110.175945,\n",
       "  'YER': 250.026857,\n",
       "  'ZAR': 18.326712,\n",
       "  'ZMW': 18.99272,\n",
       "  'ZWL': 6415.717006}}"
      ]
     },
     "execution_count": 28,
     "metadata": {},
     "output_type": "execute_result"
    }
   ],
   "source": [
    "# show r.json content \n",
    "r.json()"
   ]
  },
  {
   "cell_type": "code",
   "execution_count": 29,
   "id": "fc61f3ba",
   "metadata": {},
   "outputs": [
    {
     "name": "stdout",
     "output_type": "stream",
     "text": [
      "(162, 11)\n"
     ]
    },
    {
     "data": {
      "text/html": [
       "<div>\n",
       "<style scoped>\n",
       "    .dataframe tbody tr th:only-of-type {\n",
       "        vertical-align: middle;\n",
       "    }\n",
       "\n",
       "    .dataframe tbody tr th {\n",
       "        vertical-align: top;\n",
       "    }\n",
       "\n",
       "    .dataframe thead th {\n",
       "        text-align: right;\n",
       "    }\n",
       "</style>\n",
       "<table border=\"1\" class=\"dataframe\">\n",
       "  <thead>\n",
       "    <tr style=\"text-align: right;\">\n",
       "      <th></th>\n",
       "      <th>result</th>\n",
       "      <th>provider</th>\n",
       "      <th>documentation</th>\n",
       "      <th>terms_of_use</th>\n",
       "      <th>time_last_update_unix</th>\n",
       "      <th>time_last_update_utc</th>\n",
       "      <th>time_next_update_unix</th>\n",
       "      <th>time_next_update_utc</th>\n",
       "      <th>time_eol_unix</th>\n",
       "      <th>base_code</th>\n",
       "      <th>rates</th>\n",
       "    </tr>\n",
       "  </thead>\n",
       "  <tbody>\n",
       "    <tr>\n",
       "      <th>AED</th>\n",
       "      <td>success</td>\n",
       "      <td>https://www.exchangerate-api.com</td>\n",
       "      <td>https://www.exchangerate-api.com/docs/free</td>\n",
       "      <td>https://www.exchangerate-api.com/terms</td>\n",
       "      <td>1686787351</td>\n",
       "      <td>Thu, 15 Jun 2023 00:02:31 +0000</td>\n",
       "      <td>1686874781</td>\n",
       "      <td>Fri, 16 Jun 2023 00:19:41 +0000</td>\n",
       "      <td>0</td>\n",
       "      <td>USD</td>\n",
       "      <td>3.672500</td>\n",
       "    </tr>\n",
       "    <tr>\n",
       "      <th>AFN</th>\n",
       "      <td>success</td>\n",
       "      <td>https://www.exchangerate-api.com</td>\n",
       "      <td>https://www.exchangerate-api.com/docs/free</td>\n",
       "      <td>https://www.exchangerate-api.com/terms</td>\n",
       "      <td>1686787351</td>\n",
       "      <td>Thu, 15 Jun 2023 00:02:31 +0000</td>\n",
       "      <td>1686874781</td>\n",
       "      <td>Fri, 16 Jun 2023 00:19:41 +0000</td>\n",
       "      <td>0</td>\n",
       "      <td>USD</td>\n",
       "      <td>86.021548</td>\n",
       "    </tr>\n",
       "    <tr>\n",
       "      <th>ALL</th>\n",
       "      <td>success</td>\n",
       "      <td>https://www.exchangerate-api.com</td>\n",
       "      <td>https://www.exchangerate-api.com/docs/free</td>\n",
       "      <td>https://www.exchangerate-api.com/terms</td>\n",
       "      <td>1686787351</td>\n",
       "      <td>Thu, 15 Jun 2023 00:02:31 +0000</td>\n",
       "      <td>1686874781</td>\n",
       "      <td>Fri, 16 Jun 2023 00:19:41 +0000</td>\n",
       "      <td>0</td>\n",
       "      <td>USD</td>\n",
       "      <td>99.233490</td>\n",
       "    </tr>\n",
       "    <tr>\n",
       "      <th>AMD</th>\n",
       "      <td>success</td>\n",
       "      <td>https://www.exchangerate-api.com</td>\n",
       "      <td>https://www.exchangerate-api.com/docs/free</td>\n",
       "      <td>https://www.exchangerate-api.com/terms</td>\n",
       "      <td>1686787351</td>\n",
       "      <td>Thu, 15 Jun 2023 00:02:31 +0000</td>\n",
       "      <td>1686874781</td>\n",
       "      <td>Fri, 16 Jun 2023 00:19:41 +0000</td>\n",
       "      <td>0</td>\n",
       "      <td>USD</td>\n",
       "      <td>386.524080</td>\n",
       "    </tr>\n",
       "    <tr>\n",
       "      <th>ANG</th>\n",
       "      <td>success</td>\n",
       "      <td>https://www.exchangerate-api.com</td>\n",
       "      <td>https://www.exchangerate-api.com/docs/free</td>\n",
       "      <td>https://www.exchangerate-api.com/terms</td>\n",
       "      <td>1686787351</td>\n",
       "      <td>Thu, 15 Jun 2023 00:02:31 +0000</td>\n",
       "      <td>1686874781</td>\n",
       "      <td>Fri, 16 Jun 2023 00:19:41 +0000</td>\n",
       "      <td>0</td>\n",
       "      <td>USD</td>\n",
       "      <td>1.790000</td>\n",
       "    </tr>\n",
       "  </tbody>\n",
       "</table>\n",
       "</div>"
      ],
      "text/plain": [
       "      result                          provider  \\\n",
       "AED  success  https://www.exchangerate-api.com   \n",
       "AFN  success  https://www.exchangerate-api.com   \n",
       "ALL  success  https://www.exchangerate-api.com   \n",
       "AMD  success  https://www.exchangerate-api.com   \n",
       "ANG  success  https://www.exchangerate-api.com   \n",
       "\n",
       "                                  documentation  \\\n",
       "AED  https://www.exchangerate-api.com/docs/free   \n",
       "AFN  https://www.exchangerate-api.com/docs/free   \n",
       "ALL  https://www.exchangerate-api.com/docs/free   \n",
       "AMD  https://www.exchangerate-api.com/docs/free   \n",
       "ANG  https://www.exchangerate-api.com/docs/free   \n",
       "\n",
       "                               terms_of_use  time_last_update_unix  \\\n",
       "AED  https://www.exchangerate-api.com/terms             1686787351   \n",
       "AFN  https://www.exchangerate-api.com/terms             1686787351   \n",
       "ALL  https://www.exchangerate-api.com/terms             1686787351   \n",
       "AMD  https://www.exchangerate-api.com/terms             1686787351   \n",
       "ANG  https://www.exchangerate-api.com/terms             1686787351   \n",
       "\n",
       "                time_last_update_utc  time_next_update_unix  \\\n",
       "AED  Thu, 15 Jun 2023 00:02:31 +0000             1686874781   \n",
       "AFN  Thu, 15 Jun 2023 00:02:31 +0000             1686874781   \n",
       "ALL  Thu, 15 Jun 2023 00:02:31 +0000             1686874781   \n",
       "AMD  Thu, 15 Jun 2023 00:02:31 +0000             1686874781   \n",
       "ANG  Thu, 15 Jun 2023 00:02:31 +0000             1686874781   \n",
       "\n",
       "                time_next_update_utc  time_eol_unix base_code       rates  \n",
       "AED  Fri, 16 Jun 2023 00:19:41 +0000              0       USD    3.672500  \n",
       "AFN  Fri, 16 Jun 2023 00:19:41 +0000              0       USD   86.021548  \n",
       "ALL  Fri, 16 Jun 2023 00:19:41 +0000              0       USD   99.233490  \n",
       "AMD  Fri, 16 Jun 2023 00:19:41 +0000              0       USD  386.524080  \n",
       "ANG  Fri, 16 Jun 2023 00:19:41 +0000              0       USD    1.790000  "
      ]
     },
     "execution_count": 29,
     "metadata": {},
     "output_type": "execute_result"
    }
   ],
   "source": [
    "# save the .json results as a Pandas DataFrame and show it\n",
    "ExRateUSD = pd.DataFrame.from_dict(r.json())\n",
    "print(ExRateUSD.shape)\n",
    "ExRateUSD.head(5)"
   ]
  },
  {
   "cell_type": "code",
   "execution_count": 31,
   "id": "45988fe6",
   "metadata": {},
   "outputs": [
    {
     "name": "stdout",
     "output_type": "stream",
     "text": [
      "The convertion rate between USD-INR is 82.070814 at the time of my execution (06/15/2023)\n"
     ]
    }
   ],
   "source": [
    "# check the conversion rate between USD-INR (82.070814 INR to 1 USD) - 06/15/2023\n",
    "ConvRateINR_USD = ExRateUSD.loc['INR']['rates']\n",
    "print(f\"The conversion rate between USD-INR is {ConvRateINR_USD} at the time of my execution (06/15/2023)\")"
   ]
  },
  {
   "cell_type": "code",
   "execution_count": 32,
   "id": "23ddc2ef",
   "metadata": {},
   "outputs": [
    {
     "name": "stdout",
     "output_type": "stream",
     "text": [
      "<class 'pandas.core.frame.DataFrame'>\n",
      "RangeIndex: 22770 entries, 0 to 22769\n",
      "Data columns (total 9 columns):\n",
      " #   Column             Non-Null Count  Dtype  \n",
      "---  ------             --------------  -----  \n",
      " 0   Rating             22770 non-null  float64\n",
      " 1   Company Name       22770 non-null  object \n",
      " 2   Job Title          22770 non-null  object \n",
      " 3   Salary             22770 non-null  int64  \n",
      " 4   Salaries Reported  22770 non-null  int64  \n",
      " 5   Location           22770 non-null  object \n",
      " 6   Employment Status  22770 non-null  object \n",
      " 7   Job Roles          22770 non-null  object \n",
      " 8   Salary USD         22770 non-null  float64\n",
      "dtypes: float64(2), int64(2), object(5)\n",
      "memory usage: 1.6+ MB\n"
     ]
    }
   ],
   "source": [
    "# create a new column Salary USD containing salary-equivalent in USD rounded to 0 decimals\n",
    "sps['Salary USD'] = sps['Salary'] / ConvRateINR_USD\n",
    "sps['Salary USD'] = sps['Salary USD'].round(0)\n",
    "sps.info()"
   ]
  },
  {
   "cell_type": "code",
   "execution_count": 35,
   "id": "fcc1f4be-7c64-4a1d-9153-2ae16183975e",
   "metadata": {},
   "outputs": [
    {
     "name": "stdout",
     "output_type": "stream",
     "text": [
      "The average Salary USD for 'Python' Job Role is 5922 USD\n"
     ]
    }
   ],
   "source": [
    "# check the average Salary USD for 'Python' Job Role (5922 USD)\n",
    "AvgSalaryUSD_python = sps.loc[sps['Job Roles'] == 'Python']['Salary USD'].mean().round(0)\n",
    "print(f\"The average Salary USD for 'Python' Job Role is {int(AvgSalaryUSD_python)} USD\")"
   ]
  },
  {
   "cell_type": "code",
   "execution_count": 39,
   "id": "b1ff1c06-087f-42bc-9e61-8aecc2a2d89c",
   "metadata": {},
   "outputs": [
    {
     "name": "stdout",
     "output_type": "stream",
     "text": [
      "The Company Name with the highest average of 'Salary USD' is Thapar University\n"
     ]
    }
   ],
   "source": [
    "# show which Company Name as the highest average of Salary USD (Thapar University) \n",
    "AvgSalaryUSD_company = sps.groupby('Company Name', as_index=False)['Salary USD'].mean().sort_values(by='Salary USD', ascending=False)\n",
    "print(f\"The Company Name with the highest average of 'Salary USD' is {AvgSalaryUSD_company['Company Name'].iloc[0]}\")"
   ]
  },
  {
   "cell_type": "code",
   "execution_count": 41,
   "id": "f74725a6",
   "metadata": {},
   "outputs": [
    {
     "data": {
      "text/html": [
       "<div>\n",
       "<style scoped>\n",
       "    .dataframe tbody tr th:only-of-type {\n",
       "        vertical-align: middle;\n",
       "    }\n",
       "\n",
       "    .dataframe tbody tr th {\n",
       "        vertical-align: top;\n",
       "    }\n",
       "\n",
       "    .dataframe thead th {\n",
       "        text-align: right;\n",
       "    }\n",
       "</style>\n",
       "<table border=\"1\" class=\"dataframe\">\n",
       "  <thead>\n",
       "    <tr style=\"text-align: right;\">\n",
       "      <th></th>\n",
       "      <th>Company Name</th>\n",
       "      <th>Salary USD</th>\n",
       "    </tr>\n",
       "  </thead>\n",
       "  <tbody>\n",
       "    <tr>\n",
       "      <th>9414</th>\n",
       "      <td>Thapar University</td>\n",
       "      <td>1096614.0</td>\n",
       "    </tr>\n",
       "  </tbody>\n",
       "</table>\n",
       "</div>"
      ],
      "text/plain": [
       "           Company Name  Salary USD\n",
       "9414  Thapar University   1096614.0"
      ]
     },
     "execution_count": 41,
     "metadata": {},
     "output_type": "execute_result"
    }
   ],
   "source": [
    "# show the Thapar University's average Salary USD value\n",
    "AvgSalaryUSD_company.head(1)"
   ]
  },
  {
   "cell_type": "code",
   "execution_count": 42,
   "id": "6dc02790",
   "metadata": {},
   "outputs": [],
   "source": [
    "# create a new DataFrame that contained the average Salary USD and the average Rating for each 'Company Name' \n",
    "avg_sps = sps.groupby('Company Name', as_index=False)[['Salary USD', 'Rating']].mean()"
   ]
  },
  {
   "cell_type": "code",
   "execution_count": 44,
   "id": "5c42eff1",
   "metadata": {},
   "outputs": [
    {
     "data": {
      "text/plain": [
       "Text(0.5, 1.0, 'Relationship between Avg Salary USD and Avg Rating')"
      ]
     },
     "execution_count": 44,
     "metadata": {},
     "output_type": "execute_result"
    },
    {
     "data": {
      "image/png": "[encoded data removed]",
      "text/plain": [
       "<Figure size 640x480 with 1 Axes>"
      ]
     },
     "metadata": {},
     "output_type": "display_data"
    }
   ],
   "source": [
    "# show the relationship between average Salary USD and average Rating for each Company Name\n",
    "plt.scatter(x='Rating', y='Salary USD', data=avg_sps)\n",
    "plt.xlabel('Avg Company Rating')\n",
    "plt.ylabel('Avg Company Salary USD')\n",
    "plt.title('Relationship between Avg Salary USD and Avg Rating')"
   ]
  },
  {
   "cell_type": "code",
   "execution_count": 64,
   "id": "702a96bd",
   "metadata": {},
   "outputs": [
    {
     "name": "stdout",
     "output_type": "stream",
     "text": [
      "The Company representing the outlier observation is Thapar University\n"
     ]
    }
   ],
   "source": [
    "# check which Company Name has the average salary > 200.000 USD (Thapar University)\n",
    "outlier_company = avg_sps.loc[avg_sps['Salary USD'] > 200000, 'Company Name'].iloc[0]\n",
    "print(f\"The Company representing the outlier observation is {outlier_company}\")"
   ]
  },
  {
   "cell_type": "code",
   "execution_count": 66,
   "id": "36bd9c5b",
   "metadata": {},
   "outputs": [
    {
     "data": {
      "text/plain": [
       "Text(0.5, 1.0, 'Relationship between Avg Salary USD and Avg Rating (without outliers)')"
      ]
     },
     "execution_count": 66,
     "metadata": {},
     "output_type": "execute_result"
    },
    {
     "data": {
      "image/png": "[encoded data removed]",
      "text/plain": [
       "<Figure size 640x480 with 1 Axes>"
      ]
     },
     "metadata": {},
     "output_type": "display_data"
    }
   ],
   "source": [
    "# show the previous relationship removing anomaly data\n",
    "plt.scatter(x='Rating', y='Salary USD', data=avg_sps.loc[avg_sps['Salary USD'] < 200000])\n",
    "plt.xlabel('Avg Company Rating')\n",
    "plt.ylabel('Avg Company Salary USD')\n",
    "plt.title('Relationship between Avg Salary USD and Avg Rating (without outliers)')"
   ]
  }
 ],
 "metadata": {
  "kernelspec": {
   "display_name": "Python 3 (ipykernel)",
   "language": "python",
   "name": "python3"
  },
  "language_info": {
   "codemirror_mode": {
    "name": "ipython",
    "version": 3
   },
   "file_extension": ".py",
   "mimetype": "text/x-python",
   "name": "python",
   "nbconvert_exporter": "python",
   "pygments_lexer": "ipython3",
   "version": "3.10.11"
  }
 },
 "nbformat": 4,
 "nbformat_minor": 5
}
